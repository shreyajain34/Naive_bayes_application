{
 "cells": [
  {
   "cell_type": "code",
   "execution_count": 1,
   "metadata": {
    "colab": {},
    "colab_type": "code",
    "id": "z_ljrq1lPYYP"
   },
   "outputs": [],
   "source": [
    "from sklearn import datasets\n",
    "from sklearn.naive_bayes import MultinomialNB, GaussianNB\n",
    "from sklearn.model_selection import train_test_split\n",
    "import matplotlib.pyplot as plt\n",
    "from sklearn.metrics import confusion_matrix,classification_report"
   ]
  },
  {
   "cell_type": "code",
   "execution_count": 2,
   "metadata": {
    "colab": {},
    "colab_type": "code",
    "id": "i7tUraBIPu-v"
   },
   "outputs": [],
   "source": [
    "iris = datasets.load_iris()"
   ]
  },
  {
   "cell_type": "code",
   "execution_count": 3,
   "metadata": {
    "colab": {},
    "colab_type": "code",
    "id": "Q2k2EpzXPnar"
   },
   "outputs": [],
   "source": [
    "#checking corelation\n",
    "import pandas as pd\n",
    "X = pd.DataFrame(iris.data)\n",
    "Y = pd.DataFrame(iris.target)"
   ]
  },
  {
   "cell_type": "code",
   "execution_count": 4,
   "metadata": {
    "colab": {},
    "colab_type": "code",
    "id": "BgMj4zYSQbCc"
   },
   "outputs": [
    {
     "data": {
      "image/png": "[encoded data removed]",
      "text/plain": [
       "<Figure size 288x288 with 1 Axes>"
      ]
     },
     "metadata": {
      "needs_background": "light"
     },
     "output_type": "display_data"
    },
    {
     "data": {
      "text/html": [
       "<div>\n",
       "<style scoped>\n",
       "    .dataframe tbody tr th:only-of-type {\n",
       "        vertical-align: middle;\n",
       "    }\n",
       "\n",
       "    .dataframe tbody tr th {\n",
       "        vertical-align: top;\n",
       "    }\n",
       "\n",
       "    .dataframe thead th {\n",
       "        text-align: right;\n",
       "    }\n",
       "</style>\n",
       "<table border=\"1\" class=\"dataframe\">\n",
       "  <thead>\n",
       "    <tr style=\"text-align: right;\">\n",
       "      <th></th>\n",
       "      <th>0</th>\n",
       "      <th>1</th>\n",
       "      <th>2</th>\n",
       "      <th>3</th>\n",
       "    </tr>\n",
       "  </thead>\n",
       "  <tbody>\n",
       "    <tr>\n",
       "      <th>0</th>\n",
       "      <td>1.000000</td>\n",
       "      <td>-0.117570</td>\n",
       "      <td>0.871754</td>\n",
       "      <td>0.817941</td>\n",
       "    </tr>\n",
       "    <tr>\n",
       "      <th>1</th>\n",
       "      <td>-0.117570</td>\n",
       "      <td>1.000000</td>\n",
       "      <td>-0.428440</td>\n",
       "      <td>-0.366126</td>\n",
       "    </tr>\n",
       "    <tr>\n",
       "      <th>2</th>\n",
       "      <td>0.871754</td>\n",
       "      <td>-0.428440</td>\n",
       "      <td>1.000000</td>\n",
       "      <td>0.962865</td>\n",
       "    </tr>\n",
       "    <tr>\n",
       "      <th>3</th>\n",
       "      <td>0.817941</td>\n",
       "      <td>-0.366126</td>\n",
       "      <td>0.962865</td>\n",
       "      <td>1.000000</td>\n",
       "    </tr>\n",
       "  </tbody>\n",
       "</table>\n",
       "</div>"
      ],
      "text/plain": [
       "          0         1         2         3\n",
       "0  1.000000 -0.117570  0.871754  0.817941\n",
       "1 -0.117570  1.000000 -0.428440 -0.366126\n",
       "2  0.871754 -0.428440  1.000000  0.962865\n",
       "3  0.817941 -0.366126  0.962865  1.000000"
      ]
     },
     "execution_count": 4,
     "metadata": {},
     "output_type": "execute_result"
    }
   ],
   "source": [
    "plt.matshow(X.corr())\n",
    "plt.show()\n",
    "X.corr()"
   ]
  },
  {
   "cell_type": "code",
   "execution_count": 5,
   "metadata": {
    "colab": {
     "base_uri": "https://localhost:8080/",
     "height": 293
    },
    "colab_type": "code",
    "executionInfo": {
     "elapsed": 1760,
     "status": "ok",
     "timestamp": 1565189480471,
     "user": {
      "displayName": "Aarav Pandya",
      "photoUrl": "",
      "userId": "06757534999798889955"
     },
     "user_tz": -330
    },
    "id": "Stftmx3yg6yl",
    "outputId": "729ce5c7-468a-4a99-e1d2-9e7d04148210"
   },
   "outputs": [
    {
     "data": {
      "image/png": "[encoded data removed]",
      "text/plain": [
       "<Figure size 288x288 with 1 Axes>"
      ]
     },
     "metadata": {
      "needs_background": "light"
     },
     "output_type": "display_data"
    },
    {
     "data": {
      "text/plain": [
       "((150, 4), (150, 1))"
      ]
     },
     "execution_count": 5,
     "metadata": {},
     "output_type": "execute_result"
    }
   ],
   "source": [
    "X = pd.DataFrame(iris.data[:,:4])\n",
    "Y = pd.DataFrame(iris.target)\n",
    "plt.matshow(X.corr())\n",
    "plt.show()\n",
    "X.corr()\n",
    "X.shape,Y.shape"
   ]
  },
  {
   "cell_type": "code",
   "execution_count": 7,
   "metadata": {},
   "outputs": [
    {
     "data": {
      "image/png": "[encoded data removed]",
      "text/plain": [
       "<Figure size 432x288 with 2 Axes>"
      ]
     },
     "metadata": {
      "needs_background": "light"
     },
     "output_type": "display_data"
    }
   ],
   "source": [
    "import seaborn as sns\n",
    "corr = X.corr()\n",
    "ax = sns.heatmap(\n",
    "    corr, \n",
    "    vmin=-1, vmax=1, center=0,\n",
    "    cmap=sns.diverging_palette(20, 220, n=200),\n",
    "    square=True\n",
    ")\n",
    "ax.set_xticklabels(\n",
    "    ax.get_xticklabels(),\n",
    "    rotation=45,\n",
    "    horizontalalignment='right'\n",
    ");"
   ]
  },
  {
   "cell_type": "code",
   "execution_count": 23,
   "metadata": {
    "colab": {},
    "colab_type": "code",
    "id": "2iS2ITQQPooi"
   },
   "outputs": [],
   "source": [
    "X_train, X_test, y_train, y_test = train_test_split(iris.data[:,:3], iris.target, test_size=0.5, random_state=43)\n",
    "#distributing datset"
   ]
  },
  {
   "cell_type": "code",
   "execution_count": 24,
   "metadata": {
    "colab": {
     "base_uri": "https://localhost:8080/",
     "height": 35
    },
    "colab_type": "code",
    "executionInfo": {
     "elapsed": 919,
     "status": "ok",
     "timestamp": 1565189480472,
     "user": {
      "displayName": "Aarav Pandya",
      "photoUrl": "",
      "userId": "06757534999798889955"
     },
     "user_tz": -330
    },
    "id": "tSjj3LZ-ULN1",
    "outputId": "c58ba08e-58cb-485e-ee71-2b09ea86db2a"
   },
   "outputs": [
    {
     "data": {
      "text/plain": [
       "MultinomialNB(alpha=1.0, class_prior=None, fit_prior=True)"
      ]
     },
     "execution_count": 24,
     "metadata": {},
     "output_type": "execute_result"
    }
   ],
   "source": [
    "clf = MultinomialNB()\n",
    "clf.fit(X_train,y_train)"
   ]
  },
  {
   "cell_type": "code",
   "execution_count": 25,
   "metadata": {
    "colab": {
     "base_uri": "https://localhost:8080/",
     "height": 72
    },
    "colab_type": "code",
    "executionInfo": {
     "elapsed": 1165,
     "status": "ok",
     "timestamp": 1565189481126,
     "user": {
      "displayName": "Aarav Pandya",
      "photoUrl": "",
      "userId": "06757534999798889955"
     },
     "user_tz": -330
    },
    "id": "45m_2TfPVLGM",
    "outputId": "ec48b617-3aec-451e-c32e-26d0b9099874"
   },
   "outputs": [
    {
     "data": {
      "text/plain": [
       "array([[24,  0,  0],\n",
       "       [ 0,  0, 30],\n",
       "       [ 0,  0, 21]], dtype=int64)"
      ]
     },
     "execution_count": 25,
     "metadata": {},
     "output_type": "execute_result"
    }
   ],
   "source": [
    "y_pred = clf.predict(X_test)\n",
    "confusion_matrix(y_test,y_pred)"
   ]
  },
  {
   "cell_type": "code",
   "execution_count": 26,
   "metadata": {
    "colab": {
     "base_uri": "https://localhost:8080/",
     "height": 198
    },
    "colab_type": "code",
    "executionInfo": {
     "elapsed": 815,
     "status": "ok",
     "timestamp": 1565189481127,
     "user": {
      "displayName": "Aarav Pandya",
      "photoUrl": "",
      "userId": "06757534999798889955"
     },
     "user_tz": -330
    },
    "id": "QTBMMxuPVfBT",
    "outputId": "cddaea1f-27c8-47d5-865e-b0e36c0093f5"
   },
   "outputs": [
    {
     "name": "stdout",
     "output_type": "stream",
     "text": [
      "              precision    recall  f1-score   support\n",
      "\n",
      "           0       1.00      1.00      1.00        24\n",
      "           1       0.00      0.00      0.00        30\n",
      "           2       0.41      1.00      0.58        21\n",
      "\n",
      "    accuracy                           0.60        75\n",
      "   macro avg       0.47      0.67      0.53        75\n",
      "weighted avg       0.44      0.60      0.48        75\n",
      "\n"
     ]
    },
    {
     "name": "stderr",
     "output_type": "stream",
     "text": [
      "c:\\users\\shailendra porwal\\appdata\\local\\programs\\python\\python36-32\\lib\\site-packages\\sklearn\\metrics\\classification.py:1437: UndefinedMetricWarning: Precision and F-score are ill-defined and being set to 0.0 in labels with no predicted samples.\n",
      "  'precision', 'predicted', average, warn_for)\n"
     ]
    }
   ],
   "source": [
    "print(classification_report(y_test,y_pred))"
   ]
  },
  {
   "cell_type": "markdown",
   "metadata": {
    "colab_type": "text",
    "id": "tFnKDJNBiDYa"
   },
   "source": [
    "## Using GaussianNB"
   ]
  },
  {
   "cell_type": "code",
   "execution_count": 27,
   "metadata": {
    "colab": {
     "base_uri": "https://localhost:8080/",
     "height": 35
    },
    "colab_type": "code",
    "executionInfo": {
     "elapsed": 731,
     "status": "ok",
     "timestamp": 1565189481833,
     "user": {
      "displayName": "Aarav Pandya",
      "photoUrl": "",
      "userId": "06757534999798889955"
     },
     "user_tz": -330
    },
    "id": "KFi9qiyxiGxm",
    "outputId": "c23c9603-c923-48b9-b32c-182c08a7ef19"
   },
   "outputs": [
    {
     "data": {
      "text/plain": [
       "GaussianNB(priors=None, var_smoothing=1e-09)"
      ]
     },
     "execution_count": 27,
     "metadata": {},
     "output_type": "execute_result"
    }
   ],
   "source": [
    "clf = GaussianNB()\n",
    "clf.fit(X_train,y_train)"
   ]
  },
  {
   "cell_type": "code",
   "execution_count": 28,
   "metadata": {
    "colab": {
     "base_uri": "https://localhost:8080/",
     "height": 72
    },
    "colab_type": "code",
    "executionInfo": {
     "elapsed": 1085,
     "status": "ok",
     "timestamp": 1565189482539,
     "user": {
      "displayName": "Aarav Pandya",
      "photoUrl": "",
      "userId": "06757534999798889955"
     },
     "user_tz": -330
    },
    "id": "1lhsrftRiX79",
    "outputId": "c4d68c3c-2eee-4bfb-e125-6c572ad36f85"
   },
   "outputs": [
    {
     "data": {
      "text/plain": [
       "array([[24,  0,  0],\n",
       "       [ 0, 25,  5],\n",
       "       [ 0,  7, 14]], dtype=int64)"
      ]
     },
     "execution_count": 28,
     "metadata": {},
     "output_type": "execute_result"
    }
   ],
   "source": [
    "y_pred = clf.predict(X_test)\n",
    "confusion_matrix(y_test,y_pred)"
   ]
  },
  {
   "cell_type": "code",
   "execution_count": 29,
   "metadata": {
    "colab": {
     "base_uri": "https://localhost:8080/",
     "height": 198
    },
    "colab_type": "code",
    "executionInfo": {
     "elapsed": 762,
     "status": "ok",
     "timestamp": 1565189482539,
     "user": {
      "displayName": "Aarav Pandya",
      "photoUrl": "",
      "userId": "06757534999798889955"
     },
     "user_tz": -330
    },
    "id": "aUY3ML_iibvV",
    "outputId": "248f3609-408c-4194-b113-a5d9a606a59c"
   },
   "outputs": [
    {
     "name": "stdout",
     "output_type": "stream",
     "text": [
      "              precision    recall  f1-score   support\n",
      "\n",
      "           0       1.00      1.00      1.00        24\n",
      "           1       0.78      0.83      0.81        30\n",
      "           2       0.74      0.67      0.70        21\n",
      "\n",
      "    accuracy                           0.84        75\n",
      "   macro avg       0.84      0.83      0.84        75\n",
      "weighted avg       0.84      0.84      0.84        75\n",
      "\n"
     ]
    }
   ],
   "source": [
    "print(classification_report(y_test,y_pred))"
   ]
  },
  {
   "cell_type": "markdown",
   "metadata": {
    "colab_type": "text",
    "id": "wtFwJoDzawsk"
   },
   "source": [
    "## Conclusion\n",
    "\n",
    "\n",
    "1.   Since the dataset is small, test split was only 10%\n",
    "2.   Multinomial accuracy : 60 %\n",
    "3.   Gaussian accuracy : 84 %( these results are at random state 43)\n",
    "2.   GaussianNB gave better results than multinomialNB. The reason is because the features in the dataset are continous( when kept random state at 42) \n",
    "\n"
   ]
  },
  {
   "cell_type": "markdown",
   "metadata": {
    "colab_type": "text",
    "id": "pwjxBEGrgLLs"
   },
   "source": []
  },
  {
   "cell_type": "markdown",
   "metadata": {
    "colab_type": "text",
    "id": "Ds65xuEVYkJM"
   },
   "source": [
    "# Newsgroup dataset"
   ]
  },
  {
   "cell_type": "code",
   "execution_count": null,
   "metadata": {
    "colab": {},
    "colab_type": "code",
    "id": "JOhgekNfciPn"
   },
   "outputs": [],
   "source": [
    "from sklearn.feature_extraction.text import TfidfVectorizer"
   ]
  },
  {
   "cell_type": "code",
   "execution_count": null,
   "metadata": {
    "colab": {
     "base_uri": "https://localhost:8080/",
     "height": 53
    },
    "colab_type": "code",
    "executionInfo": {
     "elapsed": 10177,
     "status": "ok",
     "timestamp": 1565189493026,
     "user": {
      "displayName": "Aarav Pandya",
      "photoUrl": "",
      "userId": "06757534999798889955"
     },
     "user_tz": -330
    },
    "id": "hcFSaHc-QOdd",
    "outputId": "696b7f1e-1078-483c-c0c8-9d2682d68d8d"
   },
   "outputs": [],
   "source": [
    "from sklearn.datasets import fetch_20newsgroups\n",
    "newsgroups_train = fetch_20newsgroups(subset='train')\n",
    "newsgroups_test = fetch_20newsgroups(subset='test')\n"
   ]
  },
  {
   "cell_type": "code",
   "execution_count": null,
   "metadata": {
    "colab": {
     "base_uri": "https://localhost:8080/",
     "height": 35
    },
    "colab_type": "code",
    "executionInfo": {
     "elapsed": 10016,
     "status": "ok",
     "timestamp": 1565189493027,
     "user": {
      "displayName": "Aarav Pandya",
      "photoUrl": "",
      "userId": "06757534999798889955"
     },
     "user_tz": -330
    },
    "id": "98sej-2NV17D",
    "outputId": "78010361-da0b-4649-8946-a61fc250a01b"
   },
   "outputs": [],
   "source": [
    "newsgroups_test.target.shape,newsgroups_train.target.shape"
   ]
  },
  {
   "cell_type": "code",
   "execution_count": null,
   "metadata": {
    "colab": {},
    "colab_type": "code",
    "id": "PKrMPdWBYyTL"
   },
   "outputs": [],
   "source": [
    "vectorizer = TfidfVectorizer()\n",
    "train_vectors = vectorizer.fit_transform(newsgroups_train.data)\n",
    "vectors_test = vectorizer.transform(newsgroups_test.data)"
   ]
  },
  {
   "cell_type": "code",
   "execution_count": null,
   "metadata": {
    "colab": {
     "base_uri": "https://localhost:8080/",
     "height": 35
    },
    "colab_type": "code",
    "executionInfo": {
     "elapsed": 14343,
     "status": "ok",
     "timestamp": 1565189497680,
     "user": {
      "displayName": "Aarav Pandya",
      "photoUrl": "",
      "userId": "06757534999798889955"
     },
     "user_tz": -330
    },
    "id": "fmyLgBGrdgMS",
    "outputId": "a2e7cd59-b9ca-4b29-82d4-91a3545650ea"
   },
   "outputs": [],
   "source": [
    "clf = MultinomialNB(alpha=0.1)\n",
    "clf.fit(train_vectors, newsgroups_train.target)"
   ]
  },
  {
   "cell_type": "code",
   "execution_count": null,
   "metadata": {
    "colab": {
     "base_uri": "https://localhost:8080/",
     "height": 506
    },
    "colab_type": "code",
    "executionInfo": {
     "elapsed": 14183,
     "status": "ok",
     "timestamp": 1565189497680,
     "user": {
      "displayName": "Aarav Pandya",
      "photoUrl": "",
      "userId": "06757534999798889955"
     },
     "user_tz": -330
    },
    "id": "YKbxlWt1d1t0",
    "outputId": "42d085f0-9156-4573-e302-077fef7a764f"
   },
   "outputs": [],
   "source": [
    "pred = clf.predict(vectors_test)\n",
    "confusion_matrix(newsgroups_test.target, pred)\n",
    "print(classification_report(newsgroups_test.target, pred))"
   ]
  },
  {
   "cell_type": "markdown",
   "metadata": {
    "colab_type": "text",
    "id": "iEiRXqmXgQAF"
   },
   "source": [
    "#Getting a high accuracy in the above model. To show how features affect creating new model after remove some features"
   ]
  },
  {
   "cell_type": "code",
   "execution_count": null,
   "metadata": {
    "colab": {},
    "colab_type": "code",
    "id": "okOE1yfMeQa0"
   },
   "outputs": [],
   "source": [
    "newsgroups_train = fetch_20newsgroups(subset='train',remove=('headers', 'footers'))\n",
    "newsgroups_test = fetch_20newsgroups(subset='test',remove=('headers', 'footers'))"
   ]
  },
  {
   "cell_type": "code",
   "execution_count": null,
   "metadata": {
    "colab": {},
    "colab_type": "code",
    "id": "I1TeeTX5faT-"
   },
   "outputs": [],
   "source": [
    "vectorizer = TfidfVectorizer()\n",
    "train_vectors = vectorizer.fit_transform(newsgroups_train.data)\n",
    "vectors_test = vectorizer.transform(newsgroups_test.data)"
   ]
  },
  {
   "cell_type": "code",
   "execution_count": null,
   "metadata": {
    "colab": {
     "base_uri": "https://localhost:8080/",
     "height": 35
    },
    "colab_type": "code",
    "executionInfo": {
     "elapsed": 18550,
     "status": "ok",
     "timestamp": 1565189502700,
     "user": {
      "displayName": "Aarav Pandya",
      "photoUrl": "",
      "userId": "06757534999798889955"
     },
     "user_tz": -330
    },
    "id": "Q8g_gjrPfaUD",
    "outputId": "03a0c821-e7d2-44ad-c204-354d8cd62f9f"
   },
   "outputs": [],
   "source": [
    "clf = MultinomialNB(alpha=0.1)\n",
    "clf.fit(train_vectors, newsgroups_train.target)"
   ]
  },
  {
   "cell_type": "code",
   "execution_count": null,
   "metadata": {
    "colab": {
     "base_uri": "https://localhost:8080/",
     "height": 506
    },
    "colab_type": "code",
    "executionInfo": {
     "elapsed": 18395,
     "status": "ok",
     "timestamp": 1565189502701,
     "user": {
      "displayName": "Aarav Pandya",
      "photoUrl": "",
      "userId": "06757534999798889955"
     },
     "user_tz": -330
    },
    "id": "2cskrBJGfaUF",
    "outputId": "7b43ccca-3132-477e-aeb2-f856ffbc4371"
   },
   "outputs": [],
   "source": [
    "pred = clf.predict(vectors_test)\n",
    "confusion_matrix(newsgroups_test.target, pred)\n",
    "print(classification_report(newsgroups_test.target, pred))"
   ]
  },
  {
   "cell_type": "markdown",
   "metadata": {
    "colab_type": "text",
    "id": "zEw4pIUggaLW"
   },
   "source": [
    "## Training new model with default alpha = 1.0"
   ]
  },
  {
   "cell_type": "code",
   "execution_count": null,
   "metadata": {
    "colab": {
     "base_uri": "https://localhost:8080/",
     "height": 35
    },
    "colab_type": "code",
    "executionInfo": {
     "elapsed": 18053,
     "status": "ok",
     "timestamp": 1565189502701,
     "user": {
      "displayName": "Aarav Pandya",
      "photoUrl": "",
      "userId": "06757534999798889955"
     },
     "user_tz": -330
    },
    "id": "Hvc30Andfb19",
    "outputId": "0981e813-3f62-4a2a-9cb7-d1f99ccf8658"
   },
   "outputs": [],
   "source": [
    "clf = MultinomialNB()\n",
    "clf.fit(train_vectors, newsgroups_train.target)"
   ]
  },
  {
   "cell_type": "code",
   "execution_count": null,
   "metadata": {
    "colab": {
     "base_uri": "https://localhost:8080/",
     "height": 506
    },
    "colab_type": "code",
    "executionInfo": {
     "elapsed": 17876,
     "status": "ok",
     "timestamp": 1565189502702,
     "user": {
      "displayName": "Aarav Pandya",
      "photoUrl": "",
      "userId": "06757534999798889955"
     },
     "user_tz": -330
    },
    "id": "jzQCmiG1gr7O",
    "outputId": "f5eb7ffe-61fb-4847-877f-c4d97cfa1532"
   },
   "outputs": [],
   "source": [
    "pred = clf.predict(vectors_test)\n",
    "confusion_matrix(newsgroups_test.target, pred)\n",
    "print(classification_report(newsgroups_test.target, pred))"
   ]
  },
  {
   "cell_type": "markdown",
   "metadata": {
    "colab_type": "text",
    "id": "qCbjX2LdjqBi"
   },
   "source": [
    "## Using GaussianNB"
   ]
  },
  {
   "cell_type": "code",
   "execution_count": null,
   "metadata": {
    "colab": {
     "base_uri": "https://localhost:8080/",
     "height": 35
    },
    "colab_type": "code",
    "executionInfo": {
     "elapsed": 21,
     "status": "ok",
     "timestamp": 1565189595646,
     "user": {
      "displayName": "Aarav Pandya",
      "photoUrl": "",
      "userId": "06757534999798889955"
     },
     "user_tz": -330
    },
    "id": "8n77dUoLjpS4",
    "outputId": "3e939fe9-6fb8-49bb-e0f8-cb6afe733c40"
   },
   "outputs": [],
   "source": [
    "multimodel = GaussianNB()\n",
    "multimodel.fit(train_vectors.toarray(), newsgroups_train.target)"
   ]
  },
  {
   "cell_type": "code",
   "execution_count": null,
   "metadata": {
    "colab": {
     "base_uri": "https://localhost:8080/",
     "height": 506
    },
    "colab_type": "code",
    "executionInfo": {
     "elapsed": 117415,
     "status": "ok",
     "timestamp": 1565189733121,
     "user": {
      "displayName": "Aarav Pandya",
      "photoUrl": "",
      "userId": "06757534999798889955"
     },
     "user_tz": -330
    },
    "id": "lF6Ikszlj3qN",
    "outputId": "cac3c113-7e6f-4b26-84bb-774623ad2269"
   },
   "outputs": [],
   "source": [
    "pred = clf.predict(vectors_test.toarray())\n",
    "confusion_matrix(newsgroups_test.target, pred)\n",
    "print(classification_report(newsgroups_test.target, pred))"
   ]
  },
  {
   "cell_type": "markdown",
   "metadata": {
    "colab_type": "text",
    "id": "XZ2yiS6YgMxN"
   },
   "source": [
    "conclusion\n",
    "\n",
    "1.   Taking alpha = 0.1 in initializing multinomialNB as its a hyperparameter taken in sklearn tutorial. A default model is also used. \n",
    "2.   Initial learning without removing columns show that classifier fits on the data very good but after removing headers and footers, the accuracy drops. This is because the headers and footers contain some information which is repeated for every newsgroup and hence help in classifying.\n",
    "3.    Multinomial accuracy with alpha=0.1 : 79 %\n",
    "4.    Multinomial accuracy with alpha 1.0 : 73 %\n",
    "5.    Gaussian accuracy : 55 %\n",
    "3.    Multinomial works better in this case because the number of words used are discrete and from a dictionary. \n",
    "\n"
   ]
  },
  {
   "cell_type": "code",
   "execution_count": null,
   "metadata": {
    "colab": {},
    "colab_type": "code",
    "id": "Z5mlv5N9gMW7"
   },
   "outputs": [],
   "source": []
  }
 ],
 "metadata": {
  "accelerator": "GPU",
  "colab": {
   "collapsed_sections": [],
   "machine_shape": "hm",
   "name": "Untitled3.ipynb",
   "provenance": [],
   "version": "0.3.2"
  },
  "kernelspec": {
   "display_name": "Python 3",
   "language": "python",
   "name": "python3"
  },
  "language_info": {
   "codemirror_mode": {
    "name": "ipython",
    "version": 3
   },
   "file_extension": ".py",
   "mimetype": "text/x-python",
   "name": "python",
   "nbconvert_exporter": "python",
   "pygments_lexer": "ipython3",
   "version": "3.6.5"
  }
 },
 "nbformat": 4,
 "nbformat_minor": 1
}
